{
 "cells": [
  {
   "cell_type": "code",
   "execution_count": 229,
   "metadata": {},
   "outputs": [],
   "source": [
    "#import python modules to be used for ETL process\n",
    "import pandas as pd\n",
    "import numpy as np\n",
    "import matplotlib.pyplot as plt\n",
    "import seaborn as sns\n",
    "from urllib.request import urlopen\n",
    "from bs4 import BeautifulSoup\n",
    "import seaborn as sns\n",
    "%matplotlib inline"
   ]
  },
  {
   "cell_type": "markdown",
   "metadata": {},
   "source": [
    "# EXTRACT LOAD TRANSFORM (ETL)"
   ]
  },
  {
   "cell_type": "code",
   "execution_count": 230,
   "metadata": {},
   "outputs": [],
   "source": [
    "#specify the URL containing dataset and pass it to urlopen to get the html\n",
    "url = 'https://www.hubertiming.com/results/2017GPTR#individual'\n",
    "html = urlopen(url)"
   ]
  },
  {
   "cell_type": "code",
   "execution_count": 231,
   "metadata": {},
   "outputs": [],
   "source": [
    "#create beautiful soup object to parse the html\n",
    "#lxml provides a very simple and powerful API for parsing XML and HTML\n",
    "soup = BeautifulSoup(html, 'lxml')"
   ]
  },
  {
   "cell_type": "code",
   "execution_count": 247,
   "metadata": {},
   "outputs": [
    {
     "name": "stdout",
     "output_type": "stream",
     "text": [
      "Race results for the 2017 Intel Great Place to Run \\ Urban Clash Games!\n"
     ]
    }
   ],
   "source": [
    "title = soup.title\n",
    "text = soup.get_text()\n",
    "print(title.get_text())"
   ]
  },
  {
   "cell_type": "code",
   "execution_count": 233,
   "metadata": {},
   "outputs": [
    {
     "name": "stdout",
     "output_type": "stream",
     "text": [
      "mailto:timing@hubertiming.com\n",
      "https://www.hubertiming.com/\n",
      "/results/2017GPTR10K#individual\n",
      "/results/summary/2017GPTR\n",
      "None\n",
      "#tabs-1\n",
      "https://www.hubertiming.com/\n",
      "https://facebook.com/hubertiming/\n",
      "None\n"
     ]
    }
   ],
   "source": [
    "#<a> for hyperlinks\n",
    "#<table> for tables\n",
    "#<tr> for table rows\n",
    "#<th> for table header\n",
    "#<td> for table cells\n",
    "all_links = soup.find_all('a')\n",
    "for link in all_links:\n",
    "    print(link.get('href'))"
   ]
  },
  {
   "cell_type": "code",
   "execution_count": 234,
   "metadata": {},
   "outputs": [],
   "source": [
    "#get the headers into a list\n",
    "headers = []\n",
    "for header in soup.find_all('th'):\n",
    "    headers.append(header.get_text())"
   ]
  },
  {
   "cell_type": "code",
   "execution_count": 235,
   "metadata": {},
   "outputs": [],
   "source": [
    "#get all the information together before putting them into a datafarame\n",
    "rows = soup.find_all('tr')\n",
    "list_rows = []\n",
    "for row in rows:\n",
    "    cells = row.find_all('td')\n",
    "    list_row = []\n",
    "    for cell in cells:\n",
    "        list_row.append(cell.text)\n",
    "    list_rows.append(list_row)"
   ]
  },
  {
   "cell_type": "code",
   "execution_count": 236,
   "metadata": {},
   "outputs": [],
   "source": [
    "raw_df = pd.DataFrame(list_rows)"
   ]
  },
  {
   "cell_type": "code",
   "execution_count": 237,
   "metadata": {},
   "outputs": [],
   "source": [
    "headers_df = pd.DataFrame(np.array(headers).reshape(1,-1))"
   ]
  },
  {
   "cell_type": "code",
   "execution_count": 238,
   "metadata": {},
   "outputs": [],
   "source": [
    "#concat headers_df with the raw_df and make it as column header\n",
    "raw_df = pd.concat([headers_df, raw_df])\n",
    "raw_df = raw_df.rename(columns=raw_df.iloc[0])"
   ]
  },
  {
   "cell_type": "code",
   "execution_count": 239,
   "metadata": {},
   "outputs": [
    {
     "data": {
      "text/html": [
       "<div>\n",
       "<style scoped>\n",
       "    .dataframe tbody tr th:only-of-type {\n",
       "        vertical-align: middle;\n",
       "    }\n",
       "\n",
       "    .dataframe tbody tr th {\n",
       "        vertical-align: top;\n",
       "    }\n",
       "\n",
       "    .dataframe thead th {\n",
       "        text-align: right;\n",
       "    }\n",
       "</style>\n",
       "<table border=\"1\" class=\"dataframe\">\n",
       "  <thead>\n",
       "    <tr style=\"text-align: right;\">\n",
       "      <th></th>\n",
       "      <th>Place</th>\n",
       "      <th>Bib</th>\n",
       "      <th>Name</th>\n",
       "      <th>Gender</th>\n",
       "      <th>City</th>\n",
       "      <th>State</th>\n",
       "      <th>Chip Time</th>\n",
       "      <th>Chip Pace</th>\n",
       "      <th>Gun Time</th>\n",
       "    </tr>\n",
       "  </thead>\n",
       "  <tbody>\n",
       "    <tr>\n",
       "      <th>0</th>\n",
       "      <td>Place</td>\n",
       "      <td>Bib</td>\n",
       "      <td>Name</td>\n",
       "      <td>Gender</td>\n",
       "      <td>City</td>\n",
       "      <td>State</td>\n",
       "      <td>Chip Time</td>\n",
       "      <td>Chip Pace</td>\n",
       "      <td>Gun Time</td>\n",
       "    </tr>\n",
       "    <tr>\n",
       "      <th>0</th>\n",
       "      <td>None</td>\n",
       "      <td>None</td>\n",
       "      <td>None</td>\n",
       "      <td>None</td>\n",
       "      <td>None</td>\n",
       "      <td>None</td>\n",
       "      <td>None</td>\n",
       "      <td>None</td>\n",
       "      <td>None</td>\n",
       "    </tr>\n",
       "    <tr>\n",
       "      <th>1</th>\n",
       "      <td>Finishers:</td>\n",
       "      <td>1458</td>\n",
       "      <td>None</td>\n",
       "      <td>None</td>\n",
       "      <td>None</td>\n",
       "      <td>None</td>\n",
       "      <td>None</td>\n",
       "      <td>None</td>\n",
       "      <td>None</td>\n",
       "    </tr>\n",
       "    <tr>\n",
       "      <th>2</th>\n",
       "      <td>Male:</td>\n",
       "      <td>771</td>\n",
       "      <td>None</td>\n",
       "      <td>None</td>\n",
       "      <td>None</td>\n",
       "      <td>None</td>\n",
       "      <td>None</td>\n",
       "      <td>None</td>\n",
       "      <td>None</td>\n",
       "    </tr>\n",
       "    <tr>\n",
       "      <th>3</th>\n",
       "      <td>Female:</td>\n",
       "      <td>687</td>\n",
       "      <td>None</td>\n",
       "      <td>None</td>\n",
       "      <td>None</td>\n",
       "      <td>None</td>\n",
       "      <td>None</td>\n",
       "      <td>None</td>\n",
       "      <td>None</td>\n",
       "    </tr>\n",
       "    <tr>\n",
       "      <th>4</th>\n",
       "      <td>None</td>\n",
       "      <td>None</td>\n",
       "      <td>None</td>\n",
       "      <td>None</td>\n",
       "      <td>None</td>\n",
       "      <td>None</td>\n",
       "      <td>None</td>\n",
       "      <td>None</td>\n",
       "      <td>None</td>\n",
       "    </tr>\n",
       "    <tr>\n",
       "      <th>5</th>\n",
       "      <td>1</td>\n",
       "      <td>2320</td>\n",
       "      <td>\\r\\n\\r\\n                    DANIEL M HINCKLEY\\...</td>\n",
       "      <td>M</td>\n",
       "      <td>HILLSBORO</td>\n",
       "      <td>OR</td>\n",
       "      <td>16:42</td>\n",
       "      <td>5:23</td>\n",
       "      <td>16:44</td>\n",
       "    </tr>\n",
       "    <tr>\n",
       "      <th>6</th>\n",
       "      <td>2</td>\n",
       "      <td>2335</td>\n",
       "      <td>\\r\\n\\r\\n                    KORY F GRAY\\r\\n\\r\\...</td>\n",
       "      <td>M</td>\n",
       "      <td>HILLSBORO</td>\n",
       "      <td>OR</td>\n",
       "      <td>17:34</td>\n",
       "      <td>5:40</td>\n",
       "      <td>17:35</td>\n",
       "    </tr>\n",
       "    <tr>\n",
       "      <th>7</th>\n",
       "      <td>3</td>\n",
       "      <td>1770</td>\n",
       "      <td>\\r\\n\\r\\n                    FILIP SCHMOLE\\r\\n\\...</td>\n",
       "      <td>M</td>\n",
       "      <td>PORTLAND</td>\n",
       "      <td>OR</td>\n",
       "      <td>18:13</td>\n",
       "      <td>5:52</td>\n",
       "      <td>18:14</td>\n",
       "    </tr>\n",
       "    <tr>\n",
       "      <th>8</th>\n",
       "      <td>4</td>\n",
       "      <td>2584</td>\n",
       "      <td>\\r\\n\\r\\n                    TRENTON C ROLLING\\...</td>\n",
       "      <td>M</td>\n",
       "      <td>PORTLAND</td>\n",
       "      <td>OR</td>\n",
       "      <td>18:32</td>\n",
       "      <td>5:58</td>\n",
       "      <td>18:35</td>\n",
       "    </tr>\n",
       "  </tbody>\n",
       "</table>\n",
       "</div>"
      ],
      "text/plain": [
       "        Place   Bib                                               Name  \\\n",
       "0       Place   Bib                                               Name   \n",
       "0        None  None                                               None   \n",
       "1  Finishers:  1458                                               None   \n",
       "2       Male:   771                                               None   \n",
       "3     Female:   687                                               None   \n",
       "4        None  None                                               None   \n",
       "5           1  2320  \\r\\n\\r\\n                    DANIEL M HINCKLEY\\...   \n",
       "6           2  2335  \\r\\n\\r\\n                    KORY F GRAY\\r\\n\\r\\...   \n",
       "7           3  1770  \\r\\n\\r\\n                    FILIP SCHMOLE\\r\\n\\...   \n",
       "8           4  2584  \\r\\n\\r\\n                    TRENTON C ROLLING\\...   \n",
       "\n",
       "   Gender       City  State  Chip Time  Chip Pace  Gun Time  \n",
       "0  Gender       City  State  Chip Time  Chip Pace  Gun Time  \n",
       "0    None       None   None       None       None      None  \n",
       "1    None       None   None       None       None      None  \n",
       "2    None       None   None       None       None      None  \n",
       "3    None       None   None       None       None      None  \n",
       "4    None       None   None       None       None      None  \n",
       "5       M  HILLSBORO     OR      16:42       5:23     16:44  \n",
       "6       M  HILLSBORO     OR      17:34       5:40     17:35  \n",
       "7       M   PORTLAND     OR      18:13       5:52     18:14  \n",
       "8       M   PORTLAND     OR      18:32       5:58     18:35  "
      ]
     },
     "execution_count": 239,
     "metadata": {},
     "output_type": "execute_result"
    }
   ],
   "source": [
    "raw_df.head(10)"
   ]
  },
  {
   "cell_type": "code",
   "execution_count": 240,
   "metadata": {},
   "outputs": [
    {
     "data": {
      "text/plain": [
       "Place        2\n",
       "Bib          2\n",
       "Name         5\n",
       "Gender       5\n",
       "City         5\n",
       "State        5\n",
       "Chip Time    5\n",
       "Chip Pace    5\n",
       "Gun Time     5\n",
       "dtype: int64"
      ]
     },
     "execution_count": 240,
     "metadata": {},
     "output_type": "execute_result"
    }
   ],
   "source": [
    "#determine total missing values \n",
    "raw_df.isna().sum()"
   ]
  },
  {
   "cell_type": "code",
   "execution_count": 241,
   "metadata": {},
   "outputs": [],
   "source": [
    "#drop all the missing values rows\n",
    "raw_df = raw_df.dropna(axis=0, how='any')"
   ]
  },
  {
   "cell_type": "code",
   "execution_count": 242,
   "metadata": {},
   "outputs": [],
   "source": [
    "#cleaning the data\n",
    "raw_df = raw_df.drop(raw_df.index[0], axis=0)"
   ]
  },
  {
   "cell_type": "code",
   "execution_count": 243,
   "metadata": {},
   "outputs": [],
   "source": [
    "#column Name seems to having line terminator need to be removed as well\n",
    "raw_df['Name'] = raw_df['Name'].str.strip()"
   ]
  },
  {
   "cell_type": "code",
   "execution_count": 244,
   "metadata": {},
   "outputs": [
    {
     "name": "stdout",
     "output_type": "stream",
     "text": [
      "<class 'pandas.core.frame.DataFrame'>\n",
      "Int64Index: 1458 entries, 5 to 1462\n",
      "Data columns (total 9 columns):\n",
      " #   Column     Non-Null Count  Dtype \n",
      "---  ------     --------------  ----- \n",
      " 0   Place      1458 non-null   object\n",
      " 1   Bib        1458 non-null   object\n",
      " 2   Name       1458 non-null   object\n",
      " 3   Gender     1458 non-null   object\n",
      " 4   City       1458 non-null   object\n",
      " 5   State      1458 non-null   object\n",
      " 6   Chip Time  1458 non-null   object\n",
      " 7   Chip Pace  1458 non-null   object\n",
      " 8   Gun Time   1458 non-null   object\n",
      "dtypes: object(9)\n",
      "memory usage: 113.9+ KB\n"
     ]
    }
   ],
   "source": [
    "raw_df.info()"
   ]
  },
  {
   "cell_type": "code",
   "execution_count": 70,
   "metadata": {},
   "outputs": [],
   "source": [
    "#save the file to local machine in csv format\n",
    "raw_df.to_csv('running_data.csv', index=False)"
   ]
  },
  {
   "cell_type": "markdown",
   "metadata": {},
   "source": [
    "# DATA ANALYSIS and VISUALIZATION"
   ]
  },
  {
   "cell_type": "markdown",
   "metadata": {},
   "source": [
    "### features explanation\n",
    "1. place - position taken place\n",
    "2. Bib - unique tagging number assigned to runner\n",
    "3. Name - name of participant\n",
    "4. Gender - Female or Male\n",
    "5. City - city from\n",
    "6. state - state from\n",
    "7. chip time - the actual amount of time it takes a runner to go from the starting line of a race to the finish line\n",
    "8. Chip pace - speed when the ruuner ran\n",
    "9. gun time - A timer is started immediately following the gunfire"
   ]
  },
  {
   "cell_type": "code",
   "execution_count": 71,
   "metadata": {},
   "outputs": [],
   "source": [
    "data = pd.read_csv('running_data.csv')"
   ]
  },
  {
   "cell_type": "code",
   "execution_count": 245,
   "metadata": {},
   "outputs": [
    {
     "data": {
      "text/html": [
       "<div>\n",
       "<style scoped>\n",
       "    .dataframe tbody tr th:only-of-type {\n",
       "        vertical-align: middle;\n",
       "    }\n",
       "\n",
       "    .dataframe tbody tr th {\n",
       "        vertical-align: top;\n",
       "    }\n",
       "\n",
       "    .dataframe thead th {\n",
       "        text-align: right;\n",
       "    }\n",
       "</style>\n",
       "<table border=\"1\" class=\"dataframe\">\n",
       "  <thead>\n",
       "    <tr style=\"text-align: right;\">\n",
       "      <th></th>\n",
       "      <th>Place</th>\n",
       "      <th>Bib</th>\n",
       "      <th>Name</th>\n",
       "      <th>Gender</th>\n",
       "      <th>City</th>\n",
       "      <th>State</th>\n",
       "      <th>Chip Time</th>\n",
       "      <th>Chip Pace</th>\n",
       "      <th>Gun Time</th>\n",
       "      <th>running_mins</th>\n",
       "    </tr>\n",
       "  </thead>\n",
       "  <tbody>\n",
       "    <tr>\n",
       "      <th>0</th>\n",
       "      <td>1</td>\n",
       "      <td>2320</td>\n",
       "      <td>DANIEL M HINCKLEY</td>\n",
       "      <td>M</td>\n",
       "      <td>HILLSBORO</td>\n",
       "      <td>OR</td>\n",
       "      <td>16:42</td>\n",
       "      <td>5:23</td>\n",
       "      <td>16:44</td>\n",
       "      <td>16.700000</td>\n",
       "    </tr>\n",
       "    <tr>\n",
       "      <th>1</th>\n",
       "      <td>2</td>\n",
       "      <td>2335</td>\n",
       "      <td>KORY F GRAY</td>\n",
       "      <td>M</td>\n",
       "      <td>HILLSBORO</td>\n",
       "      <td>OR</td>\n",
       "      <td>17:34</td>\n",
       "      <td>5:40</td>\n",
       "      <td>17:35</td>\n",
       "      <td>17.566667</td>\n",
       "    </tr>\n",
       "    <tr>\n",
       "      <th>2</th>\n",
       "      <td>3</td>\n",
       "      <td>1770</td>\n",
       "      <td>FILIP SCHMOLE</td>\n",
       "      <td>M</td>\n",
       "      <td>PORTLAND</td>\n",
       "      <td>OR</td>\n",
       "      <td>18:13</td>\n",
       "      <td>5:52</td>\n",
       "      <td>18:14</td>\n",
       "      <td>18.216667</td>\n",
       "    </tr>\n",
       "    <tr>\n",
       "      <th>3</th>\n",
       "      <td>4</td>\n",
       "      <td>2584</td>\n",
       "      <td>TRENTON C ROLLING</td>\n",
       "      <td>M</td>\n",
       "      <td>PORTLAND</td>\n",
       "      <td>OR</td>\n",
       "      <td>18:32</td>\n",
       "      <td>5:58</td>\n",
       "      <td>18:35</td>\n",
       "      <td>18.533333</td>\n",
       "    </tr>\n",
       "    <tr>\n",
       "      <th>4</th>\n",
       "      <td>5</td>\n",
       "      <td>2688</td>\n",
       "      <td>YEAN-AN LIAO</td>\n",
       "      <td>M</td>\n",
       "      <td>HILLSBORO</td>\n",
       "      <td>OR</td>\n",
       "      <td>19:12</td>\n",
       "      <td>6:11</td>\n",
       "      <td>19:18</td>\n",
       "      <td>19.200000</td>\n",
       "    </tr>\n",
       "    <tr>\n",
       "      <th>5</th>\n",
       "      <td>6</td>\n",
       "      <td>1576</td>\n",
       "      <td>JORGE1 LOPEZ</td>\n",
       "      <td>M</td>\n",
       "      <td>PORTLAND</td>\n",
       "      <td>OR</td>\n",
       "      <td>19:19</td>\n",
       "      <td>6:14</td>\n",
       "      <td>19:20</td>\n",
       "      <td>19.316667</td>\n",
       "    </tr>\n",
       "    <tr>\n",
       "      <th>6</th>\n",
       "      <td>7</td>\n",
       "      <td>1479</td>\n",
       "      <td>SCOTT E HAMPSHIRE</td>\n",
       "      <td>M</td>\n",
       "      <td>HILLSBORO</td>\n",
       "      <td>OR</td>\n",
       "      <td>19:27</td>\n",
       "      <td>6:16</td>\n",
       "      <td>19:29</td>\n",
       "      <td>19.450000</td>\n",
       "    </tr>\n",
       "    <tr>\n",
       "      <th>7</th>\n",
       "      <td>8</td>\n",
       "      <td>895</td>\n",
       "      <td>KEVIN CANADA</td>\n",
       "      <td>M</td>\n",
       "      <td>BEAVERTON</td>\n",
       "      <td>OR</td>\n",
       "      <td>19:53</td>\n",
       "      <td>6:24</td>\n",
       "      <td>20:02</td>\n",
       "      <td>19.883333</td>\n",
       "    </tr>\n",
       "    <tr>\n",
       "      <th>8</th>\n",
       "      <td>9</td>\n",
       "      <td>2631</td>\n",
       "      <td>SCOTT GERWIG</td>\n",
       "      <td>M</td>\n",
       "      <td>PORTLAND</td>\n",
       "      <td>OR</td>\n",
       "      <td>19:57</td>\n",
       "      <td>6:26</td>\n",
       "      <td>19:59</td>\n",
       "      <td>19.950000</td>\n",
       "    </tr>\n",
       "    <tr>\n",
       "      <th>9</th>\n",
       "      <td>10</td>\n",
       "      <td>2431</td>\n",
       "      <td>NICOLAUS L ROCK</td>\n",
       "      <td>M</td>\n",
       "      <td>HILLSBORO</td>\n",
       "      <td>OR</td>\n",
       "      <td>20:00</td>\n",
       "      <td>6:27</td>\n",
       "      <td>20:01</td>\n",
       "      <td>20.000000</td>\n",
       "    </tr>\n",
       "  </tbody>\n",
       "</table>\n",
       "</div>"
      ],
      "text/plain": [
       "   Place   Bib               Name Gender       City State Chip Time Chip Pace  \\\n",
       "0      1  2320  DANIEL M HINCKLEY      M  HILLSBORO    OR     16:42      5:23   \n",
       "1      2  2335        KORY F GRAY      M  HILLSBORO    OR     17:34      5:40   \n",
       "2      3  1770      FILIP SCHMOLE      M   PORTLAND    OR     18:13      5:52   \n",
       "3      4  2584  TRENTON C ROLLING      M   PORTLAND    OR     18:32      5:58   \n",
       "4      5  2688       YEAN-AN LIAO      M  HILLSBORO    OR     19:12      6:11   \n",
       "5      6  1576       JORGE1 LOPEZ      M   PORTLAND    OR     19:19      6:14   \n",
       "6      7  1479  SCOTT E HAMPSHIRE      M  HILLSBORO    OR     19:27      6:16   \n",
       "7      8   895       KEVIN CANADA      M  BEAVERTON    OR     19:53      6:24   \n",
       "8      9  2631       SCOTT GERWIG      M   PORTLAND    OR     19:57      6:26   \n",
       "9     10  2431    NICOLAUS L ROCK      M  HILLSBORO    OR     20:00      6:27   \n",
       "\n",
       "  Gun Time  running_mins  \n",
       "0    16:44     16.700000  \n",
       "1    17:35     17.566667  \n",
       "2    18:14     18.216667  \n",
       "3    18:35     18.533333  \n",
       "4    19:18     19.200000  \n",
       "5    19:20     19.316667  \n",
       "6    19:29     19.450000  \n",
       "7    20:02     19.883333  \n",
       "8    19:59     19.950000  \n",
       "9    20:01     20.000000  "
      ]
     },
     "execution_count": 245,
     "metadata": {},
     "output_type": "execute_result"
    }
   ],
   "source": [
    "data.head(10)"
   ]
  },
  {
   "cell_type": "code",
   "execution_count": 146,
   "metadata": {},
   "outputs": [],
   "source": [
    "#first to convert chip time into minutes\n",
    "mins = []\n",
    "for time in data['Chip Time'].str.split(':'):\n",
    "    if len(time) == 2:\n",
    "        minconvert = int(time[-1])/60 + int(time[-2])\n",
    "        mins.append(minconvert)\n",
    "    else:\n",
    "        minconvert = int(time[-3])*60 + int(time[-2]) + int(time[-1])/60\n",
    "        mins.append(minconvert)"
   ]
  },
  {
   "cell_type": "code",
   "execution_count": 151,
   "metadata": {},
   "outputs": [],
   "source": [
    "data['running_mins'] = mins"
   ]
  },
  {
   "cell_type": "code",
   "execution_count": 157,
   "metadata": {},
   "outputs": [
    {
     "data": {
      "text/html": [
       "<div>\n",
       "<style scoped>\n",
       "    .dataframe tbody tr th:only-of-type {\n",
       "        vertical-align: middle;\n",
       "    }\n",
       "\n",
       "    .dataframe tbody tr th {\n",
       "        vertical-align: top;\n",
       "    }\n",
       "\n",
       "    .dataframe thead th {\n",
       "        text-align: right;\n",
       "    }\n",
       "</style>\n",
       "<table border=\"1\" class=\"dataframe\">\n",
       "  <thead>\n",
       "    <tr style=\"text-align: right;\">\n",
       "      <th></th>\n",
       "      <th>Place</th>\n",
       "      <th>Bib</th>\n",
       "      <th>Name</th>\n",
       "      <th>Gender</th>\n",
       "      <th>City</th>\n",
       "      <th>State</th>\n",
       "      <th>Chip Time</th>\n",
       "      <th>Chip Pace</th>\n",
       "      <th>Gun Time</th>\n",
       "      <th>running_mins</th>\n",
       "    </tr>\n",
       "  </thead>\n",
       "  <tbody>\n",
       "    <tr>\n",
       "      <th>count</th>\n",
       "      <td>1458.000000</td>\n",
       "      <td>1458.000000</td>\n",
       "      <td>1458</td>\n",
       "      <td>1458</td>\n",
       "      <td>1450</td>\n",
       "      <td>1448</td>\n",
       "      <td>1458</td>\n",
       "      <td>1458</td>\n",
       "      <td>1458</td>\n",
       "      <td>1458.000000</td>\n",
       "    </tr>\n",
       "    <tr>\n",
       "      <th>unique</th>\n",
       "      <td>NaN</td>\n",
       "      <td>NaN</td>\n",
       "      <td>1450</td>\n",
       "      <td>2</td>\n",
       "      <td>33</td>\n",
       "      <td>3</td>\n",
       "      <td>1062</td>\n",
       "      <td>654</td>\n",
       "      <td>1048</td>\n",
       "      <td>NaN</td>\n",
       "    </tr>\n",
       "    <tr>\n",
       "      <th>top</th>\n",
       "      <td>NaN</td>\n",
       "      <td>NaN</td>\n",
       "      <td>NO NAME PLS EMAIL TIMER</td>\n",
       "      <td>M</td>\n",
       "      <td>HILLSBORO</td>\n",
       "      <td>OR</td>\n",
       "      <td>39:15</td>\n",
       "      <td>9:30</td>\n",
       "      <td>58:12</td>\n",
       "      <td>NaN</td>\n",
       "    </tr>\n",
       "    <tr>\n",
       "      <th>freq</th>\n",
       "      <td>NaN</td>\n",
       "      <td>NaN</td>\n",
       "      <td>4</td>\n",
       "      <td>771</td>\n",
       "      <td>613</td>\n",
       "      <td>1439</td>\n",
       "      <td>5</td>\n",
       "      <td>9</td>\n",
       "      <td>5</td>\n",
       "      <td>NaN</td>\n",
       "    </tr>\n",
       "    <tr>\n",
       "      <th>mean</th>\n",
       "      <td>729.500000</td>\n",
       "      <td>2027.137860</td>\n",
       "      <td>NaN</td>\n",
       "      <td>NaN</td>\n",
       "      <td>NaN</td>\n",
       "      <td>NaN</td>\n",
       "      <td>NaN</td>\n",
       "      <td>NaN</td>\n",
       "      <td>NaN</td>\n",
       "      <td>39.230476</td>\n",
       "    </tr>\n",
       "    <tr>\n",
       "      <th>std</th>\n",
       "      <td>421.032659</td>\n",
       "      <td>634.778957</td>\n",
       "      <td>NaN</td>\n",
       "      <td>NaN</td>\n",
       "      <td>NaN</td>\n",
       "      <td>NaN</td>\n",
       "      <td>NaN</td>\n",
       "      <td>NaN</td>\n",
       "      <td>NaN</td>\n",
       "      <td>11.948054</td>\n",
       "    </tr>\n",
       "    <tr>\n",
       "      <th>min</th>\n",
       "      <td>1.000000</td>\n",
       "      <td>146.000000</td>\n",
       "      <td>NaN</td>\n",
       "      <td>NaN</td>\n",
       "      <td>NaN</td>\n",
       "      <td>NaN</td>\n",
       "      <td>NaN</td>\n",
       "      <td>NaN</td>\n",
       "      <td>NaN</td>\n",
       "      <td>16.700000</td>\n",
       "    </tr>\n",
       "    <tr>\n",
       "      <th>25%</th>\n",
       "      <td>365.250000</td>\n",
       "      <td>1485.500000</td>\n",
       "      <td>NaN</td>\n",
       "      <td>NaN</td>\n",
       "      <td>NaN</td>\n",
       "      <td>NaN</td>\n",
       "      <td>NaN</td>\n",
       "      <td>NaN</td>\n",
       "      <td>NaN</td>\n",
       "      <td>30.120833</td>\n",
       "    </tr>\n",
       "    <tr>\n",
       "      <th>50%</th>\n",
       "      <td>729.500000</td>\n",
       "      <td>1950.000000</td>\n",
       "      <td>NaN</td>\n",
       "      <td>NaN</td>\n",
       "      <td>NaN</td>\n",
       "      <td>NaN</td>\n",
       "      <td>NaN</td>\n",
       "      <td>NaN</td>\n",
       "      <td>NaN</td>\n",
       "      <td>36.758333</td>\n",
       "    </tr>\n",
       "    <tr>\n",
       "      <th>75%</th>\n",
       "      <td>1093.750000</td>\n",
       "      <td>2579.250000</td>\n",
       "      <td>NaN</td>\n",
       "      <td>NaN</td>\n",
       "      <td>NaN</td>\n",
       "      <td>NaN</td>\n",
       "      <td>NaN</td>\n",
       "      <td>NaN</td>\n",
       "      <td>NaN</td>\n",
       "      <td>46.829167</td>\n",
       "    </tr>\n",
       "    <tr>\n",
       "      <th>max</th>\n",
       "      <td>1458.000000</td>\n",
       "      <td>3100.000000</td>\n",
       "      <td>NaN</td>\n",
       "      <td>NaN</td>\n",
       "      <td>NaN</td>\n",
       "      <td>NaN</td>\n",
       "      <td>NaN</td>\n",
       "      <td>NaN</td>\n",
       "      <td>NaN</td>\n",
       "      <td>108.216667</td>\n",
       "    </tr>\n",
       "  </tbody>\n",
       "</table>\n",
       "</div>"
      ],
      "text/plain": [
       "              Place          Bib                     Name Gender       City  \\\n",
       "count   1458.000000  1458.000000                     1458   1458       1450   \n",
       "unique          NaN          NaN                     1450      2         33   \n",
       "top             NaN          NaN  NO NAME PLS EMAIL TIMER      M  HILLSBORO   \n",
       "freq            NaN          NaN                        4    771        613   \n",
       "mean     729.500000  2027.137860                      NaN    NaN        NaN   \n",
       "std      421.032659   634.778957                      NaN    NaN        NaN   \n",
       "min        1.000000   146.000000                      NaN    NaN        NaN   \n",
       "25%      365.250000  1485.500000                      NaN    NaN        NaN   \n",
       "50%      729.500000  1950.000000                      NaN    NaN        NaN   \n",
       "75%     1093.750000  2579.250000                      NaN    NaN        NaN   \n",
       "max     1458.000000  3100.000000                      NaN    NaN        NaN   \n",
       "\n",
       "       State Chip Time Chip Pace Gun Time  running_mins  \n",
       "count   1448      1458      1458     1458   1458.000000  \n",
       "unique     3      1062       654     1048           NaN  \n",
       "top       OR     39:15      9:30    58:12           NaN  \n",
       "freq    1439         5         9        5           NaN  \n",
       "mean     NaN       NaN       NaN      NaN     39.230476  \n",
       "std      NaN       NaN       NaN      NaN     11.948054  \n",
       "min      NaN       NaN       NaN      NaN     16.700000  \n",
       "25%      NaN       NaN       NaN      NaN     30.120833  \n",
       "50%      NaN       NaN       NaN      NaN     36.758333  \n",
       "75%      NaN       NaN       NaN      NaN     46.829167  \n",
       "max      NaN       NaN       NaN      NaN    108.216667  "
      ]
     },
     "execution_count": 157,
     "metadata": {},
     "output_type": "execute_result"
    }
   ],
   "source": [
    "data.describe(include='all')"
   ]
  },
  {
   "cell_type": "code",
   "execution_count": 249,
   "metadata": {},
   "outputs": [],
   "source": [
    "from pylab import rcParams\n",
    "rcParams['figure.figsize'] = 15,5"
   ]
  },
  {
   "cell_type": "code",
   "execution_count": 265,
   "metadata": {},
   "outputs": [
    {
     "data": {
      "text/plain": [
       "Text(0, 0.5, 'Runner Count')"
      ]
     },
     "execution_count": 265,
     "metadata": {},
     "output_type": "execute_result"
    },
    {
     "data": {
      "image/png": "[encoded data removed]",
      "text/plain": [
       "<Figure size 1080x360 with 1 Axes>"
      ]
     },
     "metadata": {
      "needs_background": "light"
     },
     "output_type": "display_data"
    }
   ],
   "source": [
    "#cities participated in the race\n",
    "data.City.value_counts().nlargest(10).plot(kind='bar', rot=78 )\n",
    "plt.title('Top 10 cities participate in Race')\n",
    "plt.xlabel('City')\n",
    "plt.ylabel('Runner Count')"
   ]
  },
  {
   "cell_type": "code",
   "execution_count": 163,
   "metadata": {},
   "outputs": [
    {
     "data": {
      "text/plain": [
       "<AxesSubplot:xlabel='running_mins'>"
      ]
     },
     "execution_count": 163,
     "metadata": {},
     "output_type": "execute_result"
    },
    {
     "data": {
      "image/png": "[encoded data removed]",
      "text/plain": [
       "<Figure size 1080x360 with 1 Axes>"
      ]
     },
     "metadata": {
      "needs_background": "light"
     },
     "output_type": "display_data"
    }
   ],
   "source": [
    "#1)check outliers on running minutes\n",
    "sns.boxplot(x='running_mins', data=data)"
   ]
  },
  {
   "cell_type": "code",
   "execution_count": 262,
   "metadata": {},
   "outputs": [
    {
     "data": {
      "text/plain": [
       "<matplotlib.lines.Line2D at 0x211223802e0>"
      ]
     },
     "execution_count": 262,
     "metadata": {},
     "output_type": "execute_result"
    },
    {
     "data": {
      "image/png": "[encoded data removed]",
      "text/plain": [
       "<Figure size 1080x360 with 1 Axes>"
      ]
     },
     "metadata": {
      "needs_background": "light"
     },
     "output_type": "display_data"
    }
   ],
   "source": [
    "#2)did the runners' finish times follow a normal distribution?\n",
    "# - the chart shows that the running times slightly to right skewed\n",
    "import warnings\n",
    "warnings.filterwarnings('ignore')\n",
    "sns.histplot(data['running_mins'])\n",
    "plt.axvline(data.running_mins.mean(), color='r')"
   ]
  },
  {
   "cell_type": "markdown",
   "metadata": {},
   "source": [
    "#### any performance differences between males and females of various age groups.\n",
    "##### boxplot and distribution chart can be used to compare"
   ]
  },
  {
   "cell_type": "code",
   "execution_count": 175,
   "metadata": {},
   "outputs": [
    {
     "data": {
      "text/plain": [
       "<AxesSubplot:xlabel='Gender', ylabel='running_mins'>"
      ]
     },
     "execution_count": 175,
     "metadata": {},
     "output_type": "execute_result"
    },
    {
     "data": {
      "image/png": "[encoded data removed]",
      "text/plain": [
       "<Figure size 1080x360 with 1 Axes>"
      ]
     },
     "metadata": {
      "needs_background": "light"
     },
     "output_type": "display_data"
    }
   ],
   "source": [
    "sns.boxplot(x='Gender', y='running_mins', data=data)"
   ]
  },
  {
   "cell_type": "code",
   "execution_count": 260,
   "metadata": {},
   "outputs": [
    {
     "data": {
      "text/plain": [
       "<seaborn.axisgrid.FacetGrid at 0x21121eb4700>"
      ]
     },
     "execution_count": 260,
     "metadata": {},
     "output_type": "execute_result"
    },
    {
     "data": {
      "image/png": "[encoded data removed]",
      "text/plain": [
       "<Figure size 360x360 with 1 Axes>"
      ]
     },
     "metadata": {
      "needs_background": "light"
     },
     "output_type": "display_data"
    }
   ],
   "source": [
    "sns.catplot(x='Gender', y='running_mins', data=data, kind='boxen')"
   ]
  },
  {
   "cell_type": "code",
   "execution_count": 212,
   "metadata": {},
   "outputs": [
    {
     "name": "stdout",
     "output_type": "stream",
     "text": [
      "The distribution indicates that females were slower than males on average\n"
     ]
    },
    {
     "data": {
      "text/html": [
       "<div>\n",
       "<style scoped>\n",
       "    .dataframe tbody tr th:only-of-type {\n",
       "        vertical-align: middle;\n",
       "    }\n",
       "\n",
       "    .dataframe tbody tr th {\n",
       "        vertical-align: top;\n",
       "    }\n",
       "\n",
       "    .dataframe thead th {\n",
       "        text-align: right;\n",
       "    }\n",
       "</style>\n",
       "<table border=\"1\" class=\"dataframe\">\n",
       "  <thead>\n",
       "    <tr style=\"text-align: right;\">\n",
       "      <th></th>\n",
       "      <th>count</th>\n",
       "      <th>mean</th>\n",
       "      <th>std</th>\n",
       "      <th>min</th>\n",
       "      <th>25%</th>\n",
       "      <th>50%</th>\n",
       "      <th>75%</th>\n",
       "      <th>max</th>\n",
       "    </tr>\n",
       "    <tr>\n",
       "      <th>Gender</th>\n",
       "      <th></th>\n",
       "      <th></th>\n",
       "      <th></th>\n",
       "      <th></th>\n",
       "      <th></th>\n",
       "      <th></th>\n",
       "      <th></th>\n",
       "      <th></th>\n",
       "    </tr>\n",
       "  </thead>\n",
       "  <tbody>\n",
       "    <tr>\n",
       "      <th>F</th>\n",
       "      <td>687.0</td>\n",
       "      <td>43.238913</td>\n",
       "      <td>11.943987</td>\n",
       "      <td>21.8</td>\n",
       "      <td>34.458333</td>\n",
       "      <td>41.300000</td>\n",
       "      <td>50.633333</td>\n",
       "      <td>108.216667</td>\n",
       "    </tr>\n",
       "    <tr>\n",
       "      <th>M</th>\n",
       "      <td>771.0</td>\n",
       "      <td>35.658755</td>\n",
       "      <td>10.766549</td>\n",
       "      <td>16.7</td>\n",
       "      <td>28.225000</td>\n",
       "      <td>33.066667</td>\n",
       "      <td>40.608333</td>\n",
       "      <td>105.666667</td>\n",
       "    </tr>\n",
       "  </tbody>\n",
       "</table>\n",
       "</div>"
      ],
      "text/plain": [
       "        count       mean        std   min        25%        50%        75%  \\\n",
       "Gender                                                                       \n",
       "F       687.0  43.238913  11.943987  21.8  34.458333  41.300000  50.633333   \n",
       "M       771.0  35.658755  10.766549  16.7  28.225000  33.066667  40.608333   \n",
       "\n",
       "               max  \n",
       "Gender              \n",
       "F       108.216667  \n",
       "M       105.666667  "
      ]
     },
     "execution_count": 212,
     "metadata": {},
     "output_type": "execute_result"
    },
    {
     "data": {
      "image/png": "[encoded data removed]",
      "text/plain": [
       "<Figure size 1080x360 with 1 Axes>"
      ]
     },
     "metadata": {
      "needs_background": "light"
     },
     "output_type": "display_data"
    }
   ],
   "source": [
    "#element : {\"bars\", \"step\", \"poly\"}\n",
    "female = data[data['Gender']=='F']['running_mins']\n",
    "male = data[data['Gender']=='M']['running_mins']\n",
    "sns.histplot(female, kde=True, stat='count',alpha=0.5, element='step', color='g', label='female')\n",
    "sns.histplot(male,color='r', element='step', kde=True, label='male')\n",
    "plt.legend()\n",
    "print('The distribution indicates that females were slower than males on average')\n",
    "data.groupby('Gender')['running_mins'].describe()"
   ]
  }
 ],
 "metadata": {
  "kernelspec": {
   "display_name": "Python 3",
   "language": "python",
   "name": "python3"
  },
  "language_info": {
   "codemirror_mode": {
    "name": "ipython",
    "version": 3
   },
   "file_extension": ".py",
   "mimetype": "text/x-python",
   "name": "python",
   "nbconvert_exporter": "python",
   "pygments_lexer": "ipython3",
   "version": "3.8.5"
  }
 },
 "nbformat": 4,
 "nbformat_minor": 4
}
